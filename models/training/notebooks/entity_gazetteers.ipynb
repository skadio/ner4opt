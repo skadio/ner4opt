{
 "cells": [
  {
   "cell_type": "markdown",
   "id": "71cb0fb4",
   "metadata": {},
   "source": [
    "## Run this notebook to understand how to get keywords/phrases for the gazetteer features"
   ]
  },
  {
   "cell_type": "code",
   "execution_count": 1,
   "id": "997a17fe",
   "metadata": {},
   "outputs": [],
   "source": [
    "import os\n",
    "import json\n",
    "from pathlib import Path\n",
    "import spacy\n",
    "from tqdm import tqdm\n",
    "\n",
    "root_directory = Path(os.path.abspath('')).parent\n",
    "nlp = spacy.load('en_core_web_sm')"
   ]
  },
  {
   "cell_type": "code",
   "execution_count": null,
   "id": "0ffea47b",
   "metadata": {},
   "outputs": [],
   "source": [
    "with open(root_directory / 'data/train.json') as fname:\n",
    "    data_train_json = json.load(fname)\n",
    "\n",
    "const_dir_keywords = []\n",
    "obj_dir_keywords = []\n",
    "\n",
    "for item in tqdm(data_train_json[0]['paragraphs']):\n",
    "    \n",
    "    entities = item['entities']\n",
    "    raw_string = \" \".join([token['orth'] for token in item['sentences'][0]['tokens']])\n",
    "    \n",
    "    raw_string_nlp = nlp(raw_string)\n",
    "    \n",
    "    for entity in entities:\n",
    "        if entity[-1] == 'CONST_DIR':\n",
    "            const_dir_keywords.append(raw_string_nlp.char_span(entity[0], entity[1]).text.lower())\n",
    "        elif entity[-1] == 'OBJ_DIR':\n",
    "            obj_dir_keywords.append(raw_string_nlp.char_span(entity[0], entity[1]).text.lower())\n",
    "\n",
    "const_dir_keywords = list(set(const_dir_keywords))\n",
    "const_dir_keywords.sort(key=lambda x: len(x.split()), reverse=True)\n",
    "obj_dir_keywords = list(set(obj_dir_keywords))\n",
    "\n",
    "print(\"Unique const_dir keywords: \", const_dir_keywords)\n",
    "print(\"\\nUnique obj_dir keywords: \", obj_dir_keywords)"
   ]
  }
 ],
 "metadata": {
  "kernelspec": {
   "display_name": "Python 3 (ipykernel)",
   "language": "python",
   "name": "python3"
  },
  "language_info": {
   "codemirror_mode": {
    "name": "ipython",
    "version": 3
   },
   "file_extension": ".py",
   "mimetype": "text/x-python",
   "name": "python",
   "nbconvert_exporter": "python",
   "pygments_lexer": "ipython3",
   "version": "3.9.12"
  }
 },
 "nbformat": 4,
 "nbformat_minor": 5
}
